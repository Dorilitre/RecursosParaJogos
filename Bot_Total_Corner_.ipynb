{
  "nbformat": 4,
  "nbformat_minor": 0,
  "metadata": {
    "colab": {
      "provenance": [],
      "include_colab_link": true
    },
    "kernelspec": {
      "name": "python3",
      "display_name": "Python 3"
    },
    "language_info": {
      "name": "python"
    }
  },
  "cells": [
    {
      "cell_type": "markdown",
      "metadata": {
        "id": "view-in-github",
        "colab_type": "text"
      },
      "source": [
        "<a href=\"https://colab.research.google.com/github/Dorilitre/RecursosParaJogos/blob/master/Bot_Total_Corner_.ipynb\" target=\"_parent\"><img src=\"https://colab.research.google.com/assets/colab-badge.svg\" alt=\"Open In Colab\"/></a>"
      ]
    },
    {
      "cell_type": "code",
      "execution_count": null,
      "metadata": {
        "id": "2zhKjnv5Fjgl"
      },
      "outputs": [],
      "source": [
        "# VÍDEOS DE CRIAÇÃO DO CÓDIGO\n",
        "'''\n",
        "PARTE 1 - https://youtu.be/XoeRR6YIGN4\n",
        "PARTE 2 - https://youtu.be/2zYYCo7_Scs\n",
        "\n",
        "'''\n",
        "import requests\n",
        "import pandas as pd\n",
        "import numpy as np\n",
        "import re\n",
        "from time import sleep"
      ]
    },
    {
      "cell_type": "code",
      "source": [
        "# Oxylabs\n",
        "# LINK DO VÍDEO PARA CRIAR USUARIO E SENHA OXYLABS -> https://youtu.be/mO6YFoflMh0\n",
        "\n",
        "url = 'https://realtime.oxylabs.io/v1/queries'\n",
        "auth = ('', '')\n",
        "headers = {'Content-Type': 'application/json'}\n",
        "data = {\n",
        "    'source': 'universal',\n",
        "    'url': 'https://www.totalcorner.com/match/today',\n",
        "    'geo-localização': 'Brazil',\n",
        "    'renderizar': 'html'\n",
        "}\n",
        "\n",
        "response = requests.post(url, auth=auth, headers=headers, json=data)\n",
        "html = response.json()['results'][0]['content']\n"
      ],
      "metadata": {
        "id": "peWBYMy5IZhu"
      },
      "execution_count": null,
      "outputs": []
    },
    {
      "cell_type": "code",
      "source": [
        "df = pd.read_html(html)[0]"
      ],
      "metadata": {
        "id": "4YK1P1xoIuK5"
      },
      "execution_count": null,
      "outputs": []
    },
    {
      "cell_type": "code",
      "source": [
        "df.dropna(axis=1,how='all',inplace=True)"
      ],
      "metadata": {
        "id": "i3O1NuI9Kjl2"
      },
      "execution_count": null,
      "outputs": []
    },
    {
      "cell_type": "code",
      "source": [
        "df.dropna(axis=0,how='any',inplace=True)"
      ],
      "metadata": {
        "id": "qlYAIW2lLSnK"
      },
      "execution_count": null,
      "outputs": []
    },
    {
      "cell_type": "code",
      "source": [
        "df.drop(columns=['Handicap','Goal Line','Analysis','Time'],inplace=True)"
      ],
      "metadata": {
        "id": "xYBjReAvMPu-"
      },
      "execution_count": null,
      "outputs": []
    },
    {
      "cell_type": "code",
      "source": [
        "df.rename(columns={'Unnamed: 3':'Cronometro'},inplace=True)"
      ],
      "metadata": {
        "id": "3gBv60m9MyAY"
      },
      "execution_count": null,
      "outputs": []
    },
    {
      "cell_type": "code",
      "source": [
        "df['Cronometro'] = df['Cronometro'].apply(lambda a: 45 if a == 'Half' else a).astype('int64')"
      ],
      "metadata": {
        "id": "u-vGAVkoNzce"
      },
      "execution_count": null,
      "outputs": []
    },
    {
      "cell_type": "code",
      "source": [
        "df['Corner'] = df['Corner'].apply(lambda a: re.findall(r'\\d{1,} - \\d{1,}',a))"
      ],
      "metadata": {
        "id": "2m_DkJ_aQdi3"
      },
      "execution_count": null,
      "outputs": []
    },
    {
      "cell_type": "code",
      "source": [
        "df['Corner'] = df['Corner'].apply(lambda a: list(map(int,a[0].split(' - '))))"
      ],
      "metadata": {
        "id": "QXESkiQvVVFe"
      },
      "execution_count": null,
      "outputs": []
    },
    {
      "cell_type": "code",
      "source": [
        "df['Dangerous Attack'] = df['Dangerous Attack'].apply(lambda a: re.findall(r'\\d{1,} - \\d{1,}',a))"
      ],
      "metadata": {
        "id": "6_UjtOqRYxuW"
      },
      "execution_count": null,
      "outputs": []
    },
    {
      "cell_type": "code",
      "source": [
        "df['Shots'] = df['Shots'].apply(lambda a: re.findall(r'\\d{1,} - \\d{1,}',a))"
      ],
      "metadata": {
        "id": "xC0_t_KdZBn0"
      },
      "execution_count": null,
      "outputs": []
    },
    {
      "cell_type": "code",
      "source": [
        "df['Dangerous Attack'] = df['Dangerous Attack'].apply(lambda a: a if a != [] else np.nan)\n",
        "df['Corner'] = df['Corner'].apply(lambda a: a if a != [] else np.nan)\n",
        "df['Shots'] = df['Shots'].apply(lambda a: a if a != [] else np.nan)"
      ],
      "metadata": {
        "id": "_wy6O8sHZpdf"
      },
      "execution_count": null,
      "outputs": []
    },
    {
      "cell_type": "code",
      "source": [
        "df.dropna(axis=0, how = 'any',inplace=True)"
      ],
      "metadata": {
        "id": "qw8IxeBZaegt"
      },
      "execution_count": null,
      "outputs": []
    },
    {
      "cell_type": "code",
      "source": [
        "df['Shots'] = df['Shots'].apply(lambda a: list(map(int,a[0].split(' - '))))\n",
        "df['Dangerous Attack'] = df['Dangerous Attack'].apply(lambda a: list(map(int,a[0].split(' - '))))"
      ],
      "metadata": {
        "id": "VotOflapa8Wy"
      },
      "execution_count": null,
      "outputs": []
    },
    {
      "cell_type": "code",
      "source": [
        "df.head()"
      ],
      "metadata": {
        "colab": {
          "base_uri": "https://localhost:8080/",
          "height": 206
        },
        "id": "mE_2GHwLjFPN",
        "outputId": "db738b79-c99d-4650-8bc8-110110dec4ba"
      },
      "execution_count": null,
      "outputs": [
        {
          "output_type": "execute_result",
          "data": {
            "text/plain": [
              "                   League  Cronometro                          Home  Score  \\\n",
              "2  Malaysia President Cup          73  2 Johor Darul Ta'zim III U21  2 - 0   \n",
              "3     Brunei Super League          74                  AKSE Bersatu  5 - 1   \n",
              "4  Malaysia President Cup          75                   1 Sabah U21  3 - 1   \n",
              "5       Europe Friendlies          45                    SCR Altach  0 - 0   \n",
              "6       Brazil U20 League          45         1 CA Pernambucano U20  0 - 1   \n",
              "\n",
              "                 Away   Corner Dangerous Attack    Shots  \n",
              "2         Perak U21 1   [5, 2]         [32, 17]  [10, 3]  \n",
              "3              BSRC 1  [10, 5]         [54, 37]  [12, 4]  \n",
              "4      Kelantan U21 1   [9, 1]         [31, 22]  [14, 4]  \n",
              "5       FC 08 Homburg   [6, 1]         [35, 13]   [7, 1]  \n",
              "6  Sport Recife U20 1   [3, 1]         [37, 38]   [5, 1]  "
            ],
            "text/html": [
              "\n",
              "\n",
              "  <div id=\"df-2e4c93df-6aee-4bb8-99d1-3c3008736048\">\n",
              "    <div class=\"colab-df-container\">\n",
              "      <div>\n",
              "<style scoped>\n",
              "    .dataframe tbody tr th:only-of-type {\n",
              "        vertical-align: middle;\n",
              "    }\n",
              "\n",
              "    .dataframe tbody tr th {\n",
              "        vertical-align: top;\n",
              "    }\n",
              "\n",
              "    .dataframe thead th {\n",
              "        text-align: right;\n",
              "    }\n",
              "</style>\n",
              "<table border=\"1\" class=\"dataframe\">\n",
              "  <thead>\n",
              "    <tr style=\"text-align: right;\">\n",
              "      <th></th>\n",
              "      <th>League</th>\n",
              "      <th>Cronometro</th>\n",
              "      <th>Home</th>\n",
              "      <th>Score</th>\n",
              "      <th>Away</th>\n",
              "      <th>Corner</th>\n",
              "      <th>Dangerous Attack</th>\n",
              "      <th>Shots</th>\n",
              "    </tr>\n",
              "  </thead>\n",
              "  <tbody>\n",
              "    <tr>\n",
              "      <th>2</th>\n",
              "      <td>Malaysia President Cup</td>\n",
              "      <td>73</td>\n",
              "      <td>2 Johor Darul Ta'zim III U21</td>\n",
              "      <td>2 - 0</td>\n",
              "      <td>Perak U21 1</td>\n",
              "      <td>[5, 2]</td>\n",
              "      <td>[32, 17]</td>\n",
              "      <td>[10, 3]</td>\n",
              "    </tr>\n",
              "    <tr>\n",
              "      <th>3</th>\n",
              "      <td>Brunei Super League</td>\n",
              "      <td>74</td>\n",
              "      <td>AKSE Bersatu</td>\n",
              "      <td>5 - 1</td>\n",
              "      <td>BSRC 1</td>\n",
              "      <td>[10, 5]</td>\n",
              "      <td>[54, 37]</td>\n",
              "      <td>[12, 4]</td>\n",
              "    </tr>\n",
              "    <tr>\n",
              "      <th>4</th>\n",
              "      <td>Malaysia President Cup</td>\n",
              "      <td>75</td>\n",
              "      <td>1 Sabah U21</td>\n",
              "      <td>3 - 1</td>\n",
              "      <td>Kelantan U21 1</td>\n",
              "      <td>[9, 1]</td>\n",
              "      <td>[31, 22]</td>\n",
              "      <td>[14, 4]</td>\n",
              "    </tr>\n",
              "    <tr>\n",
              "      <th>5</th>\n",
              "      <td>Europe Friendlies</td>\n",
              "      <td>45</td>\n",
              "      <td>SCR Altach</td>\n",
              "      <td>0 - 0</td>\n",
              "      <td>FC 08 Homburg</td>\n",
              "      <td>[6, 1]</td>\n",
              "      <td>[35, 13]</td>\n",
              "      <td>[7, 1]</td>\n",
              "    </tr>\n",
              "    <tr>\n",
              "      <th>6</th>\n",
              "      <td>Brazil U20 League</td>\n",
              "      <td>45</td>\n",
              "      <td>1 CA Pernambucano U20</td>\n",
              "      <td>0 - 1</td>\n",
              "      <td>Sport Recife U20 1</td>\n",
              "      <td>[3, 1]</td>\n",
              "      <td>[37, 38]</td>\n",
              "      <td>[5, 1]</td>\n",
              "    </tr>\n",
              "  </tbody>\n",
              "</table>\n",
              "</div>\n",
              "      <button class=\"colab-df-convert\" onclick=\"convertToInteractive('df-2e4c93df-6aee-4bb8-99d1-3c3008736048')\"\n",
              "              title=\"Convert this dataframe to an interactive table.\"\n",
              "              style=\"display:none;\">\n",
              "\n",
              "  <svg xmlns=\"http://www.w3.org/2000/svg\" height=\"24px\"viewBox=\"0 0 24 24\"\n",
              "       width=\"24px\">\n",
              "    <path d=\"M0 0h24v24H0V0z\" fill=\"none\"/>\n",
              "    <path d=\"M18.56 5.44l.94 2.06.94-2.06 2.06-.94-2.06-.94-.94-2.06-.94 2.06-2.06.94zm-11 1L8.5 8.5l.94-2.06 2.06-.94-2.06-.94L8.5 2.5l-.94 2.06-2.06.94zm10 10l.94 2.06.94-2.06 2.06-.94-2.06-.94-.94-2.06-.94 2.06-2.06.94z\"/><path d=\"M17.41 7.96l-1.37-1.37c-.4-.4-.92-.59-1.43-.59-.52 0-1.04.2-1.43.59L10.3 9.45l-7.72 7.72c-.78.78-.78 2.05 0 2.83L4 21.41c.39.39.9.59 1.41.59.51 0 1.02-.2 1.41-.59l7.78-7.78 2.81-2.81c.8-.78.8-2.07 0-2.86zM5.41 20L4 18.59l7.72-7.72 1.47 1.35L5.41 20z\"/>\n",
              "  </svg>\n",
              "      </button>\n",
              "\n",
              "\n",
              "\n",
              "    <div id=\"df-aef8866e-dcff-4638-b384-e7bf436f0b56\">\n",
              "      <button class=\"colab-df-quickchart\" onclick=\"quickchart('df-aef8866e-dcff-4638-b384-e7bf436f0b56')\"\n",
              "              title=\"Suggest charts.\"\n",
              "              style=\"display:none;\">\n",
              "\n",
              "<svg xmlns=\"http://www.w3.org/2000/svg\" height=\"24px\"viewBox=\"0 0 24 24\"\n",
              "     width=\"24px\">\n",
              "    <g>\n",
              "        <path d=\"M19 3H5c-1.1 0-2 .9-2 2v14c0 1.1.9 2 2 2h14c1.1 0 2-.9 2-2V5c0-1.1-.9-2-2-2zM9 17H7v-7h2v7zm4 0h-2V7h2v10zm4 0h-2v-4h2v4z\"/>\n",
              "    </g>\n",
              "</svg>\n",
              "      </button>\n",
              "    </div>\n",
              "\n",
              "<style>\n",
              "  .colab-df-quickchart {\n",
              "    background-color: #E8F0FE;\n",
              "    border: none;\n",
              "    border-radius: 50%;\n",
              "    cursor: pointer;\n",
              "    display: none;\n",
              "    fill: #1967D2;\n",
              "    height: 32px;\n",
              "    padding: 0 0 0 0;\n",
              "    width: 32px;\n",
              "  }\n",
              "\n",
              "  .colab-df-quickchart:hover {\n",
              "    background-color: #E2EBFA;\n",
              "    box-shadow: 0px 1px 2px rgba(60, 64, 67, 0.3), 0px 1px 3px 1px rgba(60, 64, 67, 0.15);\n",
              "    fill: #174EA6;\n",
              "  }\n",
              "\n",
              "  [theme=dark] .colab-df-quickchart {\n",
              "    background-color: #3B4455;\n",
              "    fill: #D2E3FC;\n",
              "  }\n",
              "\n",
              "  [theme=dark] .colab-df-quickchart:hover {\n",
              "    background-color: #434B5C;\n",
              "    box-shadow: 0px 1px 3px 1px rgba(0, 0, 0, 0.15);\n",
              "    filter: drop-shadow(0px 1px 2px rgba(0, 0, 0, 0.3));\n",
              "    fill: #FFFFFF;\n",
              "  }\n",
              "</style>\n",
              "\n",
              "    <script>\n",
              "      async function quickchart(key) {\n",
              "        const containerElement = document.querySelector('#' + key);\n",
              "        const charts = await google.colab.kernel.invokeFunction(\n",
              "            'suggestCharts', [key], {});\n",
              "      }\n",
              "    </script>\n",
              "\n",
              "      <script>\n",
              "\n",
              "function displayQuickchartButton(domScope) {\n",
              "  let quickchartButtonEl =\n",
              "    domScope.querySelector('#df-aef8866e-dcff-4638-b384-e7bf436f0b56 button.colab-df-quickchart');\n",
              "  quickchartButtonEl.style.display =\n",
              "    google.colab.kernel.accessAllowed ? 'block' : 'none';\n",
              "}\n",
              "\n",
              "        displayQuickchartButton(document);\n",
              "      </script>\n",
              "      <style>\n",
              "    .colab-df-container {\n",
              "      display:flex;\n",
              "      flex-wrap:wrap;\n",
              "      gap: 12px;\n",
              "    }\n",
              "\n",
              "    .colab-df-convert {\n",
              "      background-color: #E8F0FE;\n",
              "      border: none;\n",
              "      border-radius: 50%;\n",
              "      cursor: pointer;\n",
              "      display: none;\n",
              "      fill: #1967D2;\n",
              "      height: 32px;\n",
              "      padding: 0 0 0 0;\n",
              "      width: 32px;\n",
              "    }\n",
              "\n",
              "    .colab-df-convert:hover {\n",
              "      background-color: #E2EBFA;\n",
              "      box-shadow: 0px 1px 2px rgba(60, 64, 67, 0.3), 0px 1px 3px 1px rgba(60, 64, 67, 0.15);\n",
              "      fill: #174EA6;\n",
              "    }\n",
              "\n",
              "    [theme=dark] .colab-df-convert {\n",
              "      background-color: #3B4455;\n",
              "      fill: #D2E3FC;\n",
              "    }\n",
              "\n",
              "    [theme=dark] .colab-df-convert:hover {\n",
              "      background-color: #434B5C;\n",
              "      box-shadow: 0px 1px 3px 1px rgba(0, 0, 0, 0.15);\n",
              "      filter: drop-shadow(0px 1px 2px rgba(0, 0, 0, 0.3));\n",
              "      fill: #FFFFFF;\n",
              "    }\n",
              "  </style>\n",
              "\n",
              "      <script>\n",
              "        const buttonEl =\n",
              "          document.querySelector('#df-2e4c93df-6aee-4bb8-99d1-3c3008736048 button.colab-df-convert');\n",
              "        buttonEl.style.display =\n",
              "          google.colab.kernel.accessAllowed ? 'block' : 'none';\n",
              "\n",
              "        async function convertToInteractive(key) {\n",
              "          const element = document.querySelector('#df-2e4c93df-6aee-4bb8-99d1-3c3008736048');\n",
              "          const dataTable =\n",
              "            await google.colab.kernel.invokeFunction('convertToInteractive',\n",
              "                                                     [key], {});\n",
              "          if (!dataTable) return;\n",
              "\n",
              "          const docLinkHtml = 'Like what you see? Visit the ' +\n",
              "            '<a target=\"_blank\" href=https://colab.research.google.com/notebooks/data_table.ipynb>data table notebook</a>'\n",
              "            + ' to learn more about interactive tables.';\n",
              "          element.innerHTML = '';\n",
              "          dataTable['output_type'] = 'display_data';\n",
              "          await google.colab.output.renderOutput(dataTable, element);\n",
              "          const docLink = document.createElement('div');\n",
              "          docLink.innerHTML = docLinkHtml;\n",
              "          element.appendChild(docLink);\n",
              "        }\n",
              "      </script>\n",
              "    </div>\n",
              "  </div>\n"
            ]
          },
          "metadata": {},
          "execution_count": 83
        }
      ]
    },
    {
      "cell_type": "code",
      "source": [
        "# CRIE SEU BOT TELEGRAM\n",
        "# lINK -> https://youtu.be/6xfUG8bghCw\n",
        "def enviar_mensagem(msg):\n",
        "  bot_token = ''\n",
        "  chat_id = ''\n",
        "  url = f'https://api.telegram.org/bot{bot_token}/sendMessage?chat_id={chat_id}&text={msg}'\n",
        "  requests.post(url)"
      ],
      "metadata": {
        "id": "P88UG4ugG2ZH"
      },
      "execution_count": null,
      "outputs": []
    },
    {
      "cell_type": "code",
      "source": [
        "mensagens_enviadas = []"
      ],
      "metadata": {
        "id": "KMxPMqPsMPLF"
      },
      "execution_count": null,
      "outputs": []
    },
    {
      "cell_type": "code",
      "source": [
        "\n",
        "for i in range(len(df)):\n",
        "  j = df.iloc[i]\n",
        "  tempo = j['Cronometro']\n",
        "\n",
        "  appm_home = round(j['Dangerous Attack'][0]/tempo,1)\n",
        "  appm_away = round(j['Dangerous Attack'][1]/tempo,1)\n",
        "\n",
        "  cg_home = j['Corner'][0] + j['Shots'][0]\n",
        "  cg_away = j['Corner'][1] + j['Shots'][1]\n",
        "\n",
        "  condicao_home = appm_home >= 0.5 and cg_home >= 10\n",
        "  condicao_away = appm_away >= 0.5 and cg_away >= 10\n",
        "\n",
        "  t1 = 0 < tempo < 45\n",
        "  t2 = 45 < tempo < 90\n",
        "\n",
        "\n",
        "  if (condicao_home or condicao_away) and (t1 or t2):\n",
        "    if t1:\n",
        "      t = 't1'\n",
        "    else:\n",
        "      t= 't2'\n",
        "\n",
        "    home = re.sub(r'^\\d{1} ','',j['Home'])\n",
        "    away = re.sub(r'\\d{1}$','',j['Away'])\n",
        "    if f'{home} x {away}_{t}' not in mensagens_enviadas:\n",
        "      msg = (f'''\n",
        "\n",
        "  Liga:{j[\"League\"]}\n",
        "  jogo: {home} x {away}\n",
        "  Placar: {j[\"Score\"]}\n",
        "  Appm: {appm_home} - {appm_away}\n",
        "  CG: {cg_home} - {cg_away}\n",
        "  ''')\n",
        "      enviar_mensagem(msg)\n",
        "      mensagens_enviadas.append(f'{home} x {away}_{t}')\n",
        "      sleep(2)\n",
        "\n",
        "\n",
        "\n"
      ],
      "metadata": {
        "id": "BriPHAJd_fY5"
      },
      "execution_count": null,
      "outputs": []
    },
    {
      "cell_type": "code",
      "source": [
        "mensagens_enviadas"
      ],
      "metadata": {
        "colab": {
          "base_uri": "https://localhost:8080/"
        },
        "id": "w3XY0OdKMcCM",
        "outputId": "5c0fbe85-fb7b-4b7c-d244-02c7768b2a70"
      },
      "execution_count": null,
      "outputs": [
        {
          "output_type": "execute_result",
          "data": {
            "text/plain": [
              "['AKSE Bersatu x BSRC _t2']"
            ]
          },
          "metadata": {},
          "execution_count": 87
        }
      ]
    }
  ]
}